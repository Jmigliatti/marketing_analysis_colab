{
 "cells": [
  {
   "cell_type": "markdown",
   "id": "a3f2f341",
   "metadata": {},
   "source": [
    "# Análise de Campanha de Marketing de Vinhos\n",
    "Este notebook realiza a limpeza e análise inicial dos dados."
   ]
  },
  {
   "cell_type": "code",
   "execution_count": null,
   "id": "01ef3035",
   "metadata": {},
   "outputs": [],
   "source": [
    "# Instalar bibliotecas necessárias (se estiver rodando localmente)\n",
    "# !pip install pandas openpyxl matplotlib seaborn\n",
    "\n",
    "import pandas as pd\n",
    "import matplotlib.pyplot as plt\n",
    "import seaborn as sns\n",
    "\n",
    "# Configurações visuais\n",
    "sns.set(style=\"whitegrid\")\n"
   ]
  },
  {
   "cell_type": "code",
   "execution_count": null,
   "id": "625782dd",
   "metadata": {},
   "outputs": [],
   "source": [
    "# Fazer upload do arquivo Excel\n",
    "from google.colab import files\n",
    "uploaded = files.upload()"
   ]
  },
  {
   "cell_type": "code",
   "execution_count": null,
   "id": "87b7db60",
   "metadata": {},
   "outputs": [],
   "source": [
    "# Ler o arquivo Excel\n",
    "xls = pd.ExcelFile(next(iter(uploaded)))\n",
    "print(\"Planilhas disponíveis:\", xls.sheet_names)\n",
    "\n",
    "# Carregar a planilha 'data'\n",
    "df = xls.parse('data')\n",
    "\n",
    "# Visualizar as primeiras linhas\n",
    "df.head()"
   ]
  },
  {
   "cell_type": "code",
   "execution_count": null,
   "id": "7357ad01",
   "metadata": {},
   "outputs": [],
   "source": [
    "# Converter a coluna de datas e remover valores ausentes em 'Income'\n",
    "df['Dt_Customer'] = pd.to_datetime(df['Dt_Customer'], errors='coerce', dayfirst=True)\n",
    "df = df.dropna(subset=['Income'])\n",
    "\n",
    "# Verificar se há valores ausentes restantes\n",
    "df.isnull().sum().sort_values(ascending=False).head()"
   ]
  },
  {
   "cell_type": "code",
   "execution_count": null,
   "id": "927088f7",
   "metadata": {},
   "outputs": [],
   "source": [
    "# Verificar tipos de dados\n",
    "df.dtypes"
   ]
  },
  {
   "cell_type": "code",
   "execution_count": null,
   "id": "21a7c179",
   "metadata": {},
   "outputs": [],
   "source": [
    "# Exemplo de visualização: Distribuição de renda\n",
    "plt.figure(figsize=(10,5))\n",
    "sns.histplot(df['Income'], bins=30, kde=True)\n",
    "plt.title('Distribuição da Renda')\n",
    "plt.xlabel('Renda')\n",
    "plt.ylabel('Frequência')\n",
    "plt.show()"
   ]
  }
 ],
 "metadata": {},
 "nbformat": 4,
 "nbformat_minor": 5
}
